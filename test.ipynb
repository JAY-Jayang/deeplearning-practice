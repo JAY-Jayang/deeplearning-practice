{
 "metadata": {
  "language_info": {
   "codemirror_mode": {
    "name": "ipython",
    "version": 3
   },
   "file_extension": ".py",
   "mimetype": "text/x-python",
   "name": "python",
   "nbconvert_exporter": "python",
   "pygments_lexer": "ipython3",
   "version": 3
  },
  "orig_nbformat": 4
 },
 "nbformat": 4,
 "nbformat_minor": 2,
 "cells": [
  {
   "cell_type": "code",
   "execution_count": null,
   "metadata": {},
   "outputs": [],
   "source": [
    "import numpy as np\n",
    "import matplotlib as mpl\n",
    "import matplotlib.pyplot as plt\n",
    "def cross_entropy_error(y, t):\n",
    "    if y.ndim == 1:\n",
    "        t = t.reshape(1, t.size)\n",
    "        y = y.reshape(1, y.size)\n",
    "\n",
    "    batch_size = y.shape[0]\n",
    "    # print(batch_size)\n",
    "    print(y[np.arange(batch_size), t])\n",
    "    return -np.sum(np.log(y[np.arange(batch_size), t])+1e-7) / batch_size\n",
    "\n",
    "\n",
    "t = [2, 7, 0, 4, 9, 6, 5, 1, 3, 8]\n",
    "y = [[0.1, 0.05, 0 2.1, 2, 0.3, 0.1, 0.0, 0.05, 0.0, 0.0.0, 0.05, 0.1, 0.0, 0.6, 0.0, 0.0],\n",
    "[0.1, 0.05, 0.1, 0.6\n",
    "[0.1, 0.05, 0.1, 0.0, 0.05, 0.1, 0.6, 0.0, 0.0, 0.0],\n",
    "[0.1, 0.05, 0.1, 0.0, 0.05, 0.1, 0.0, 0.0, 0.0, 0.6],\n",
    "[0.1, 0.05, 0.1, 0.0, 0.05, 0.1, 0.1, 0.05, 0.1, 0.35],\n",
    "[0.1, 0.05, 0.1, 0.0, 0.05, 0.1, 0.3, 0.3, 0.0, 0.0],\n",
    "[0.1, 0.05, 0.1, 0.0, 0.05, 0.1, 0.2, 0.4, 0.0, 0.0],\n",
    "[0.1, 0.05, 0.1, 0.0, 0.05, 0.1, 0.2, 0.1, 0.1, 0.2],\n",
    "[0.1, 0.05, 0.1, 0.4, 0.05, 0.1, 0.0, 0.1, 0.1, 0.0],\n",
    "[0.1, 0.05, 0.1, 0.0, 0.05, 0.1, 0.0, 0.3, 0.2, 0.1]]\n",
    "\n",
    "A = []\n",
    "for i in range(10):\n",
    "    print(f\"t={t[i]} 와 예측 간의 CEL 계산.\")\n",
    "    pred = np.argmax(y[i])\n",
    "    print(f\"예측은 {pred}.\")    \n",
    "    loss = cross_entropy_error(np.array(y[i]), np.array(t[i]))\n",
    "    print(f\"결과는 {loss}\")\n",
    "    A.append(loss)\n",
    "print(A)\n",
    "np.array(A)\n",
    "plt.scatter(t, A)\n",
    "plt.show()"
   ]
  },
  {
   "cell_type": "code",
   "execution_count": null,
   "metadata": {},
   "outputs": [],
   "source": []
  }
 ]
}